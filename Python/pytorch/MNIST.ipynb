{
  "nbformat": 4,
  "nbformat_minor": 0,
  "metadata": {
    "colab": {
      "name": "MNIST.ipynb",
      "provenance": [],
      "collapsed_sections": []
    },
    "kernelspec": {
      "name": "python3",
      "display_name": "Python 3"
    },
    "language_info": {
      "name": "python"
    },
    "accelerator": "GPU"
  },
  "cells": [
    {
      "cell_type": "markdown",
      "metadata": {
        "id": "UHfCdTVNoOH4"
      },
      "source": [
        "# 导入库和模块  \n",
        "`torch.nn`是用来搭建神经网络的  \n",
        "`torch.optim`是一个用来实现优化算法的库 [官方文档](https://pytorch-cn.readthedocs.io/zh/latest/package_references/torch-optim/)  \n",
        "`torchvision`包含了目前流行的数据集，模型结构和常用的图片转换工具"
      ]
    },
    {
      "cell_type": "code",
      "metadata": {
        "id": "uJ0-SZKY1HKi"
      },
      "source": [
        "import torch\n",
        "import torch.nn as nn\n",
        "import torch.nn.functional as F\n",
        "import torch.optim as optim\n",
        "from torchvision import datasets, transforms"
      ],
      "execution_count": 14,
      "outputs": []
    },
    {
      "cell_type": "markdown",
      "metadata": {
        "id": "cYdFHZp11Kzn"
      },
      "source": [
        "# 定义超参数  \n",
        "`BATCH_SIZE`是每次送入网络中训练的数据样本的数量  \n",
        "`EPOCHS`是所有数据经过前向计算和反向传播的次数  \n",
        "`DEVICE`是判断采用GPU还是CPU的量，为了在不同的机器上得到更好的运行  \n",
        "\n"
      ]
    },
    {
      "cell_type": "code",
      "metadata": {
        "id": "JUWbRaYH199i",
        "colab": {
          "base_uri": "https://localhost:8080/"
        },
        "outputId": "38c531e4-4ebc-492d-da76-f1b30c2b3229"
      },
      "source": [
        "BATCH_SIZE = 512\n",
        "EPOCHS = 20\n",
        "DEVICE = torch.device(\"cuda\" if torch.cuda.is_available() else \"cpu\")\n",
        "log_interval = 10\n",
        "train_losses = []\n",
        "train_counter = []\n",
        "test_losses = []\n",
        "test_counter = [i*len(train_loader.dataset) for i in range(EPOCHS + 1)]\n",
        "print(DEVICE)"
      ],
      "execution_count": 15,
      "outputs": [
        {
          "output_type": "stream",
          "text": [
            "cuda\n"
          ],
          "name": "stdout"
        }
      ]
    },
    {
      "cell_type": "markdown",
      "metadata": {
        "id": "Mtuls-iI2F_b"
      },
      "source": [
        "# 数据预处理 \n",
        "\n"
      ]
    },
    {
      "cell_type": "code",
      "metadata": {
        "id": "xcvm10wKq9gV"
      },
      "source": [
        "train_loader = torch.utils.data.DataLoader(\n",
        "        datasets.MNIST('data', train=True, download=False,\n",
        "                       transform=transforms.Compose([\n",
        "                           transforms.ToTensor(),\n",
        "                           transforms.Normalize((0.1307,), (0.3081,))\n",
        "                       ])),\n",
        "        batch_size=BATCH_SIZE, shuffle=True)\n",
        "\n",
        "test_loader = torch.utils.data.DataLoader(\n",
        "        datasets.MNIST('data', train=False, transform=transforms.Compose([\n",
        "                           transforms.ToTensor(),\n",
        "                           transforms.Normalize((0.1307,), (0.3081,))\n",
        "                       ])),\n",
        "        batch_size=BATCH_SIZE, shuffle=True)\n"
      ],
      "execution_count": 16,
      "outputs": []
    },
    {
      "cell_type": "code",
      "metadata": {
        "id": "I7K2D4-cbSJQ"
      },
      "source": [
        "class Net(nn.Module):\n",
        "    def __init__(self):\n",
        "        super().__init__()\n",
        "        self.conv1 = nn.Conv2d(1,10,5)\n",
        "        self.pool = nn.MaxPool2d(2,2)\n",
        "        self.conv2 = nn.Conv2d(10,20,3)\n",
        "        self.fc1 = nn.Linear(20*10*10,500)\n",
        "        self.fc2 = nn.Linear(500,10)\n",
        "        \n",
        "    def forward(self,x):\n",
        "        in_size = x.size(0)\n",
        "        out = F.relu(self.conv1(x))\n",
        "        out = F.relu(self.conv2(self.pool(out)))\n",
        "        out = F.relu(self.fc1(out.view(in_size,-1)))\n",
        "        out = F.log_softmax(self.fc2(out),dim=1)\n",
        "        return out\n",
        "    \n"
      ],
      "execution_count": 17,
      "outputs": []
    },
    {
      "cell_type": "code",
      "metadata": {
        "id": "Q5-A-4aetrYM"
      },
      "source": [
        "model = Net().to(DEVICE)\n",
        "optimizer = optim.Adam(model.parameters())\n",
        "\n",
        "def train(model, device, train_loader, optimizer, epoch):\n",
        "    model.train()\n",
        "    for batch_idx, (data, target) in enumerate(train_loader):\n",
        "        data, target = data.to(device), target.to(device)\n",
        "        optimizer.zero_grad()\n",
        "        output = model(data)\n",
        "        loss = F.nll_loss(output, target)\n",
        "        loss.backward()\n",
        "        optimizer.step()\n",
        "        if batch_idx % log_interval == 0:\n",
        "          train_losses.append(loss.item())\n",
        "          train_counter.append((batch_idx*512)+((epoch-1)*len(train_loader.dataset)))\n",
        "                \n",
        "def test(model, device, test_loader):\n",
        "    model.eval()\n",
        "    correct = 0\n",
        "    test_loss = 0\n",
        "    with torch.no_grad():\n",
        "        for data, target in test_loader:\n",
        "            data, target = data.to(device), target.to(device)\n",
        "            output = model(data)\n",
        "            test_loss += F.nll_loss(output, target, size_average=False).item()\n",
        "            pred = output.max(1, keepdim=True)[1] \n",
        "            correct += pred.eq(target.view_as(pred)).sum().item()\n",
        "    test_loss /= len(test_loader.dataset)\n",
        "    test_loss /= len(test_loader.dataset)\n",
        "\n",
        "    print('\\nTest set: Accuracy:{:.2f}%'.format(\n",
        "        100. * correct / len(test_loader.dataset)))"
      ],
      "execution_count": 22,
      "outputs": []
    },
    {
      "cell_type": "code",
      "metadata": {
        "colab": {
          "base_uri": "https://localhost:8080/"
        },
        "id": "ihI4Pax4tv7O",
        "outputId": "3259c17d-d091-4430-f5af-d15cffc9f377"
      },
      "source": [
        "for epoch in range(1, EPOCHS + 1):\n",
        "    train(model, DEVICE, train_loader, optimizer, epoch)\n",
        "    test(model, DEVICE, test_loader)"
      ],
      "execution_count": 31,
      "outputs": [
        {
          "output_type": "stream",
          "text": [
            "/usr/local/lib/python3.7/dist-packages/torch/nn/_reduction.py:42: UserWarning: size_average and reduce args will be deprecated, please use reduction='sum' instead.\n",
            "  warnings.warn(warning.format(ret))\n"
          ],
          "name": "stderr"
        },
        {
          "output_type": "stream",
          "text": [
            "\n",
            "Test set: Accuracy:99.13%\n",
            "\n",
            "Test set: Accuracy:99.15%\n",
            "\n",
            "Test set: Accuracy:99.16%\n",
            "\n",
            "Test set: Accuracy:99.06%\n",
            "\n",
            "Test set: Accuracy:98.99%\n",
            "\n",
            "Test set: Accuracy:99.00%\n",
            "\n",
            "Test set: Accuracy:98.97%\n",
            "\n",
            "Test set: Accuracy:99.19%\n",
            "\n",
            "Test set: Accuracy:98.99%\n",
            "\n",
            "Test set: Accuracy:99.10%\n",
            "\n",
            "Test set: Accuracy:98.89%\n",
            "\n",
            "Test set: Accuracy:99.19%\n",
            "\n",
            "Test set: Accuracy:99.01%\n",
            "\n",
            "Test set: Accuracy:99.03%\n",
            "\n",
            "Test set: Accuracy:99.07%\n",
            "\n",
            "Test set: Accuracy:99.11%\n",
            "\n",
            "Test set: Accuracy:99.01%\n",
            "\n",
            "Test set: Accuracy:98.84%\n",
            "\n",
            "Test set: Accuracy:99.02%\n",
            "\n",
            "Test set: Accuracy:99.00%\n"
          ],
          "name": "stdout"
        }
      ]
    },
    {
      "cell_type": "code",
      "metadata": {
        "colab": {
          "base_uri": "https://localhost:8080/",
          "height": 279
        },
        "id": "VGP_OnCn5KyP",
        "outputId": "1d5ebe91-2a09-4020-e67d-346161403fe9"
      },
      "source": [
        "import matplotlib.pyplot as plt\n",
        "fig = plt.figure()\n",
        "plt.plot(train_counter,train_losses, color='blue')\n",
        "plt.legend(['Train Loss', 'Test Loss'], loc='upper right')\n",
        "plt.xlabel('number of train exmples seen')\n",
        "plt.ylabel('negative log likelihood loss')\n",
        "plt.show()\n"
      ],
      "execution_count": 32,
      "outputs": [
        {
          "output_type": "display_data",
          "data": {
            "image/png": "[encoded data removed]",
            "text/plain": [
              "<Figure size 432x288 with 1 Axes>"
            ]
          },
          "metadata": {
            "tags": [],
            "needs_background": "light"
          }
        }
      ]
    },
    {
      "cell_type": "code",
      "metadata": {
        "id": "I0Wle8fg5Rsc"
      },
      "source": [
        ""
      ],
      "execution_count": null,
      "outputs": []
    }
  ]
}